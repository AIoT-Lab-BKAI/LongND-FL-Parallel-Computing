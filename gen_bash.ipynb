{
 "cells": [
  {
   "cell_type": "code",
   "execution_count": 1,
   "metadata": {},
   "outputs": [],
   "source": [
    "import os"
   ]
  },
  {
   "cell_type": "code",
   "execution_count": 4,
   "metadata": {},
   "outputs": [],
   "source": [
    "num_clients=100\n",
    "clients_per_round=10\n",
    "num_rounds=350\n",
    "learning_rate=0.01\n",
    "batch_size=8\n",
    "num_epochs=2\n",
    "train_mode=\"FedRL-fixed\"\n",
    "dataset_name = \"fashionmnist\"\n",
    "path_data_idx= \"dataset_idx/fashionmnist/quantitative/FashionMNIST-noniid-quantitative_1.json\"\n",
    "run_name = \"FedRL-BS-acc-direct-fMNIST-quantitative_1\"\n",
    "group_name = f\"Ver.BS-{num_rounds}rounds-acc_stopping-baseline\"\n",
    "\n",
    "value_lr=0.005\n",
    "policy_lr=0.005\n",
    "batch_size_ddpg=8\n",
    "soft_tau=0.025\n",
    "\n"
   ]
  },
  {
   "cell_type": "code",
   "execution_count": 5,
   "metadata": {},
   "outputs": [],
   "source": [
    "start = 0\n",
    "end = 20\n",
    "\n",
    "bash_line = []\n",
    "for i in range(start, end+1):\n",
    "    run_name = f\"FedRL-BS-acc-direct-fMNIST-equal-01-ep{i}\"\n",
    "    bash_format = f\"python3 -u train.py --num_clients={num_clients} \\\n",
    "            --clients_per_round={clients_per_round} \\\n",
    "            --num_rounds={num_rounds} \\\n",
    "            --learning_rate={learning_rate} \\\n",
    "            --batch_size={batch_size} \\\n",
    "            --num_epochs={num_epochs} \\\n",
    "            --train_mode={train_mode} \\\n",
    "            --dataset_name={dataset_name} \\\n",
    "            --path_data_idx={path_data_idx} \\\n",
    "            --run_name=\\\"{run_name}\\\" \\\n",
    "            --group_name=\\\"{group_name}\\\" \\\n",
    "            --value_lr={value_lr} \\\n",
    "            --policy_lr={policy_lr} \\\n",
    "            --batch_size_ddpg={batch_size_ddpg} \\\n",
    "            --soft_tau={soft_tau} \\\n",
    "            --num_core=2 \\\n",
    "            --save_model=1 \\\n",
    "            --load_model=1\"\n",
    "    bash_line.append(bash_format)\n",
    "    \n",
    "with open(\"experiment/test2.sh\", \"w\") as file:\n",
    "    for line in bash_line:\n",
    "        file.write(line + \"\\n\")"
   ]
  },
  {
   "cell_type": "code",
   "execution_count": null,
   "metadata": {},
   "outputs": [],
   "source": []
  }
 ],
 "metadata": {
  "interpreter": {
   "hash": "41de373c7c51564f2a409eba32f6e52783fe03d6495e8c955c74d373c91c79f7"
  },
  "kernelspec": {
   "display_name": "Python 3.8.12 64-bit ('longnd': conda)",
   "language": "python",
   "name": "python3"
  },
  "language_info": {
   "codemirror_mode": {
    "name": "ipython",
    "version": 3
   },
   "file_extension": ".py",
   "mimetype": "text/x-python",
   "name": "python",
   "nbconvert_exporter": "python",
   "pygments_lexer": "ipython3",
   "version": "3.8.5"
  },
  "orig_nbformat": 4
 },
 "nbformat": 4,
 "nbformat_minor": 2
}
